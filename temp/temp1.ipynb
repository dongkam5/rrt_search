{
 "cells": [
  {
   "cell_type": "code",
   "execution_count": 5,
   "metadata": {
    "collapsed": true
   },
   "outputs": [
    {
     "name": "stdout",
     "output_type": "stream",
     "text": [
      "최초로 1000이 넘게하는 수: 45\n"
     ]
    }
   ],
   "source": [
    "sum=0\n",
    "i=0\n",
    "while sum<=1000:\n",
    "    i+=1\n",
    "    sum+=i\n",
    "print(\"최초로 1000이 넘게하는 수: {}\".format(i))"
   ]
  },
  {
   "cell_type": "code",
   "execution_count": 4,
   "outputs": [
    {
     "name": "stdout",
     "output_type": "stream",
     "text": [
      "1-100의 합계를 최초로 1000이 넘게하는 수:45\n"
     ]
    }
   ],
   "source": [
    "sum,i=0,0\n",
    "for i in range(1,101):\n",
    "    sum+=i\n",
    "    if sum>=1000:\n",
    "        break\n",
    "\n",
    "print(\"1-100의 합계를 최초로 1000이 넘게하는 수:{}\".format(i))"
   ],
   "metadata": {
    "collapsed": false,
    "pycharm": {
     "name": "#%%\n"
    }
   }
  },
  {
   "cell_type": "code",
   "execution_count": 9,
   "outputs": [
    {
     "name": "stdout",
     "output_type": "stream",
     "text": [
      "1-100의 합계 (3의배수 제외): 3367\n"
     ]
    }
   ],
   "source": [
    "sum,i=0,0\n",
    "for i in range(1,101):\n",
    "    if i%3!=0:\n",
    "        sum+=i\n",
    "    else:\n",
    "        sum=sum\n",
    "\n",
    "print(\"1-100의 합계 (3의배수 제외): {}\".format((sum)))"
   ],
   "metadata": {
    "collapsed": false,
    "pycharm": {
     "name": "#%%\n"
    }
   }
  },
  {
   "cell_type": "code",
   "execution_count": 8,
   "outputs": [
    {
     "name": "stdout",
     "output_type": "stream",
     "text": [
      "1-100의 합계 (3의배수 제외): 3367\n"
     ]
    }
   ],
   "source": [
    "sum,i=0,1\n",
    "while i<101:\n",
    "    if i%3==0:\n",
    "        i+=1\n",
    "        continue\n",
    "    else:\n",
    "        sum+=i\n",
    "    i+=1\n",
    "\n",
    "print(\"1-100의 합계 (3의배수 제외): {}\".format(sum))"
   ],
   "metadata": {
    "collapsed": false,
    "pycharm": {
     "name": "#%%\n"
    }
   }
  },
  {
   "cell_type": "code",
   "execution_count": 11,
   "outputs": [
    {
     "name": "stdout",
     "output_type": "stream",
     "text": [
      "1-100의 합계 (3의배수 제외): 3367\n"
     ]
    }
   ],
   "source": [
    "sum,i=0,0\n",
    "while i<100:\n",
    "    i+=1\n",
    "    if i%3==0:\n",
    "        continue\n",
    "    else:\n",
    "        sum+=i\n",
    "\n",
    "print(\"1-100의 합계 (3의배수 제외): {}\".format(sum))"
   ],
   "metadata": {
    "collapsed": false,
    "pycharm": {
     "name": "#%%\n"
    }
   }
  },
  {
   "cell_type": "code",
   "execution_count": null,
   "outputs": [],
   "source": [],
   "metadata": {
    "collapsed": false,
    "pycharm": {
     "name": "#%%\n"
    }
   }
  }
 ],
 "metadata": {
  "kernelspec": {
   "display_name": "Python 3",
   "language": "python",
   "name": "python3"
  },
  "language_info": {
   "codemirror_mode": {
    "name": "ipython",
    "version": 2
   },
   "file_extension": ".py",
   "mimetype": "text/x-python",
   "name": "python",
   "nbconvert_exporter": "python",
   "pygments_lexer": "ipython2",
   "version": "2.7.6"
  }
 },
 "nbformat": 4,
 "nbformat_minor": 0
}